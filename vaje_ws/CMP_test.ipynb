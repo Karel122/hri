{
 "cells": [
  {
   "cell_type": "markdown",
   "id": "e2dfa0cd-3c2f-406f-b47d-5ef523bafb63",
   "metadata": {},
   "source": [
    "# INIT"
   ]
  },
  {
   "cell_type": "code",
   "execution_count": null,
   "id": "2009dbb6-1cbb-44b4-8619-3ae6b7e7d8fa",
   "metadata": {},
   "outputs": [],
   "source": [
    "import rospy\n",
    "import inspect\n",
    "from robotblockset.ros.grippers_ros import PandaGripper\n",
    "from importlib import reload\n",
    "import example_data_recorder\n",
    "#reload(example_data_recorder)\n",
    "from utils import SoftSetJointCompliance\n",
    "ns = \"pingvin_2\"\n",
    "rospy.init_node(ns)\n",
    "from robotblockset.ros.franka import panda_ros\n",
    "r = panda_ros(ns=ns, control_strategy=\"JointImpedance\", init_node=False)\n",
    "g = PandaGripper(namespace=ns,robot=r)"
   ]
  },
  {
   "cell_type": "code",
   "execution_count": null,
   "id": "76684371-4ff8-47fc-aeb2-22a43b16cecb",
   "metadata": {},
   "outputs": [],
   "source": [
    "r.ErrorRecovery()"
   ]
  },
  {
   "cell_type": "markdown",
   "id": "d735ecc4-bdfc-483c-8c15-f3518991d201",
   "metadata": {},
   "source": [
    "# Record positional trajectory\n",
    "### @ low stiffness"
   ]
  },
  {
   "cell_type": "markdown",
   "id": "2f8b5ece-aaec-4182-ac27-00a86f6e36c7",
   "metadata": {},
   "source": [
    "### Robot guidance "
   ]
  },
  {
   "cell_type": "code",
   "execution_count": null,
   "id": "e78cbacf-281b-4736-8919-ada6330feef2",
   "metadata": {},
   "outputs": [],
   "source": [
    "import time\n",
    "def SoftSetJointCompliance(robot, target_k, tm):\n",
    "    # Get the current joint stiffness values\n",
    "    k0 = robot.joint_compliance.K\n",
    "    \n",
    "    # Calculate the number of steps\n",
    "    N = max(1, round(tm / robot.tsamp))\n",
    "    \n",
    "    # Calculate the incremental changes \n",
    "    dK = (target_k - k0) / N\n",
    "\n",
    "    #initialize\n",
    "    Ki = k0\n",
    "    target_d = robot._franka_default.JointCompliance.D\n",
    "\n",
    "    robot.controller._verbose = 0\n",
    "    # Gradually update compliance\n",
    "    for i in range(1, N):\n",
    "        Ki += dK\n",
    "        robot.SetJointCompliance(Ki,target_d)\n",
    "        time.sleep(robot.tsamp)\n",
    "        \n",
    "    robot.controller._verbose = 1\n",
    "    robot.SetJointCompliance(Ki+dK,target_d)"
   ]
  },
  {
   "cell_type": "code",
   "execution_count": null,
   "id": "3012e037-4416-40d6-aff0-4896a9024c9b",
   "metadata": {},
   "outputs": [],
   "source": [
    "import numpy as np\n",
    "import time\n",
    "def record_robot_state(robot, frequency, duration):\n",
    "    interval = 1.0 / frequency\n",
    "    \n",
    "    N=int(frequency*duration)\n",
    "    tt = np.zeros((N,1))\n",
    "    qt = np.zeros((N,r.nj))\n",
    "    dqt = np.zeros((N,r.nj))\n",
    "    xt = np.zeros((N,r.nj))\n",
    "    trq = np.zeros((N,r.nj))\n",
    "\n",
    "    i = 0\n",
    "    start_time = time.monotonic()\n",
    "    end_time = start_time + duration\n",
    "    \n",
    "    last_update = time.monotonic()\n",
    "\n",
    "    while time.monotonic() <= end_time+interval and i < N:\n",
    "        t = time.monotonic()\n",
    "        if t - last_update >= interval:\n",
    "            \n",
    "            # Get robot state\n",
    "            state = robot.GetState()\n",
    "            xt[i] = robot.x\n",
    "            tt[i] = t-start_time\n",
    "            qt[i] = robot.q\n",
    "            dqt[i] = robot.qdot\n",
    "            #trq[i] = np.array(r.state.tau_J_d) #new line to store trqs\n",
    "\n",
    "            # Update the last recorded time\n",
    "            last_update = t\n",
    "            i += 1\n",
    "        \n",
    "    return xt, tt, qt, dqt, i, N#, trq "
   ]
  },
  {
   "cell_type": "code",
   "execution_count": null,
   "id": "d0f40a50-4dfa-461f-b0a8-5e995cc7d98b",
   "metadata": {},
   "outputs": [],
   "source": [
    "#Set low stiff\n",
    "r.SetJointCompliant()"
   ]
  },
  {
   "cell_type": "code",
   "execution_count": null,
   "id": "666ed6f0-7d1d-4756-ac6c-79b8642997da",
   "metadata": {},
   "outputs": [],
   "source": [
    "import time\n",
    "from utils import pip\n",
    "\n",
    "time.sleep(2)\n",
    "pip();\n",
    "xt, tt, qt, dqt, i, N = record_robot_state(r,100,5)\n",
    "pip();"
   ]
  },
  {
   "cell_type": "code",
   "execution_count": null,
   "id": "6cf13ab1-f48a-4b16-93e9-56a3ac43d11e",
   "metadata": {},
   "outputs": [],
   "source": [
    "r.ErrorRecovery()"
   ]
  },
  {
   "cell_type": "code",
   "execution_count": null,
   "id": "12e33103-2371-4df6-a7d1-19930d778de4",
   "metadata": {},
   "outputs": [],
   "source": [
    "r.ResetCurrentTarget()\n",
    "SoftSetJointCompliance(r,r._franka_default.JointCompliance.K,3);"
   ]
  },
  {
   "cell_type": "markdown",
   "id": "53ff9bf2-557f-4be4-b0d2-509372c5cb8d",
   "metadata": {},
   "source": [
    "### Encode as DMP"
   ]
  },
  {
   "cell_type": "code",
   "execution_count": null,
   "id": "ec91a945-b497-458c-9588-f5e763acca62",
   "metadata": {},
   "outputs": [],
   "source": [
    "from dmp import DMP\n",
    "\n",
    "d = DMP(qt.copy(),np.squeeze(tt.copy()),vel_data=dqt.copy(),num_weights=25)\n",
    "\n",
    "trj_dec,t_dec=d.decode()"
   ]
  },
  {
   "cell_type": "code",
   "execution_count": null,
   "id": "035a64fd-4a1c-4c37-bd5f-3af7d75d193a",
   "metadata": {},
   "outputs": [],
   "source": [
    "from robotblockset.graphics import plotjtraj\n",
    "import matplotlib.pyplot as plt\n",
    "\n",
    "plotjtraj(qt=trj_dec, t=t_dec);"
   ]
  },
  {
   "cell_type": "markdown",
   "id": "69e51429-65a6-4117-b6ec-fc2ec1bdf684",
   "metadata": {},
   "source": [
    "# Record torques\n",
    "### @ high stiffness"
   ]
  },
  {
   "cell_type": "markdown",
   "id": "bd40bb09-c67f-46c3-abc7-744d4e8e48b4",
   "metadata": {},
   "source": [
    "### Execute recorded positional trj"
   ]
  },
  {
   "cell_type": "code",
   "execution_count": null,
   "id": "8b0d6c12-cfae-4541-b4cb-66b6ea4c0610",
   "metadata": {},
   "outputs": [],
   "source": [
    "#Set high stiff\n",
    "r.ResetCurrentTarget()\n",
    "#SoftSetJointCompliance(r,r._franka_default.JointCompliance.K,3);\n",
    "r.SetJointStiff()"
   ]
  },
  {
   "cell_type": "code",
   "execution_count": null,
   "id": "b1560090-a47b-4f96-bafe-b919acc53fb9",
   "metadata": {},
   "outputs": [],
   "source": [
    "# Move slowly to the first configuration\n",
    "r.JMove(trj_dec[0],5)\n",
    "trq = np.zeros_like(trj_dec)\n",
    "pip();\n",
    "i = 0;\n",
    "for q in trj_dec: \n",
    "    # Call the GoTo_q function\n",
    "    r.GoTo_q(q,np.zeros(7),np.zeros(7),0)\n",
    "    trq[i] = np.array(r.state.tau_J_d) #new line to store trqs\n",
    "    i += 1\n",
    "    time.sleep(1/100.)"
   ]
  },
  {
   "cell_type": "markdown",
   "id": "757fa331-62ea-445b-8b1a-a7dfb0f1212a",
   "metadata": {},
   "source": [
    "### Encode as TP"
   ]
  },
  {
   "cell_type": "code",
   "execution_count": null,
   "id": "48fa04d6-022d-44da-9960-132e7a7c2b5e",
   "metadata": {},
   "outputs": [],
   "source": [
    "len(trq)\n",
    "trq.shape"
   ]
  },
  {
   "cell_type": "code",
   "execution_count": null,
   "id": "e95d7c4f-6676-4036-99e0-5ac76db452e2",
   "metadata": {},
   "outputs": [],
   "source": [
    "#pad with zeros\n",
    "trqz = (np.vstack((np.zeros((1,7)),trq)))\n",
    "len(trqz)\n",
    "trqz.shape\n"
   ]
  },
  {
   "cell_type": "code",
   "execution_count": null,
   "id": "427b4b9d-16c7-4c81-bc21-be139927658a",
   "metadata": {},
   "outputs": [],
   "source": [
    "plt.plot(tt,trqz)"
   ]
  },
  {
   "cell_type": "code",
   "execution_count": null,
   "id": "3b73c65d-c839-4aa8-989c-ee8a520012de",
   "metadata": {},
   "outputs": [],
   "source": [
    "#test TP\n",
    "from tp import TP\n",
    "\n",
    "t = TP(trqz.copy(),np.squeeze(tt.copy()),num_weights=50)\n",
    "trq_dec, t_dec = t.decode()\n",
    "plt.plot(t_dec,trq_dec)"
   ]
  },
  {
   "cell_type": "markdown",
   "id": "21d59a99-8b39-4831-b2b0-08b5c7139eb0",
   "metadata": {},
   "source": [
    "# Execute CMP\n",
    "### @ low stiffness"
   ]
  },
  {
   "cell_type": "markdown",
   "id": "901dbb11-ee16-4f8c-8118-c36175ac1f59",
   "metadata": {},
   "source": [
    "### Test at low stiff without TP"
   ]
  },
  {
   "cell_type": "code",
   "execution_count": null,
   "id": "0eab2fd6-74bc-4626-aa78-6cf7a25e0712",
   "metadata": {},
   "outputs": [],
   "source": [
    "#Set high stiff\n",
    "r.ResetCurrentTarget()\n",
    "SoftSetJointCompliance(r,r._franka_default.JointCompliance.K,3);"
   ]
  },
  {
   "cell_type": "code",
   "execution_count": null,
   "id": "1975c839-97a8-4bbb-9094-f9d15c1f0a78",
   "metadata": {},
   "outputs": [],
   "source": [
    "# Move slowly to the first configuration\n",
    "r.JMove(trj_dec[0],3)"
   ]
  },
  {
   "cell_type": "code",
   "execution_count": null,
   "id": "9bbbf409-d27e-40d9-be1b-1531353592f4",
   "metadata": {},
   "outputs": [],
   "source": [
    "#Set low stiff\n",
    "#r.SetJointCompliant()\n",
    "r.SetJointCompliance([5., 5., 5., 5., 3., 3., 1.],3);\n",
    "#SoftSetJointCompliance(r,[5., 5., 5., 5., 2., 2., 1.],3);"
   ]
  },
  {
   "cell_type": "code",
   "execution_count": null,
   "id": "e5e436f4-49ba-440f-b73a-43b92d507724",
   "metadata": {},
   "outputs": [],
   "source": [
    "#Execute JUST pos at low stiff\n",
    "pip();\n",
    "i = 0\n",
    "for q in trj_dec: \n",
    "    # Call the GoTo_q function\n",
    "    r.GoTo_q(q,np.zeros(7),np.zeros(7),0)\n",
    "    #print(trq_dec[i])\n",
    "    i += 1\n",
    "    time.sleep(1/100.)\n",
    "\n",
    "pip();"
   ]
  },
  {
   "cell_type": "code",
   "execution_count": null,
   "id": "eec79771-a6ba-4d8c-bcf6-852994b47db1",
   "metadata": {},
   "outputs": [],
   "source": [
    "#Set high stiff\n",
    "r.ResetCurrentTarget()\n",
    "SoftSetJointCompliance(r,r._franka_default.JointCompliance.K,3);"
   ]
  },
  {
   "cell_type": "markdown",
   "id": "3697ef5b-1162-4228-a2bc-49d1bde41855",
   "metadata": {},
   "source": [
    "### Execute CMP"
   ]
  },
  {
   "cell_type": "markdown",
   "id": "593aeb38-0661-42c4-bfc8-5471caf8ab90",
   "metadata": {},
   "source": [
    "# Set high stiff\n",
    "r.ResetCurrentTarget()\n",
    "SoftSetJointCompliance(r,r._franka_default.JointCompliance.K,3);\n",
    "r.SetJoitStiff()"
   ]
  },
  {
   "cell_type": "code",
   "execution_count": null,
   "id": "d7379ab3-c88f-455d-ae44-f4824d76f9c0",
   "metadata": {},
   "outputs": [],
   "source": [
    "# Move slowly to the first configuration\n",
    "r.JMove(trj_dec[0],3)"
   ]
  },
  {
   "cell_type": "code",
   "execution_count": null,
   "id": "51acfeea-6ce4-4557-86e9-d2bba20bf156",
   "metadata": {},
   "outputs": [],
   "source": [
    "#Set low stiff\n",
    "#r.SetJointCompliant()\n",
    "r.SetJointCompliance([5., 5., 5., 5., 3., 3., 1.],3);\n",
    "#SoftSetJointCompliance(r,[5., 5., 5., 5., 2., 2., 1.],3);"
   ]
  },
  {
   "cell_type": "code",
   "execution_count": null,
   "id": "cbe222be-6a35-4212-8349-2895dee7b877",
   "metadata": {},
   "outputs": [],
   "source": [
    "#Execute JUST pos at low stiff\n",
    "pip();\n",
    "i = 0\n",
    "for q in trj_dec: \n",
    "    # Call the GoTo_q function\n",
    "    r.GoTo_q(q,np.zeros(7),trq_dec[i],0)\n",
    "    #print(trq_dec[i])\n",
    "    i += 1\n",
    "    time.sleep(1/100.)\n",
    "\n",
    "pip();"
   ]
  },
  {
   "cell_type": "code",
   "execution_count": null,
   "id": "991eaadf-46e6-4492-ae8b-dce94c303c8d",
   "metadata": {},
   "outputs": [],
   "source": [
    "#Set high stiff\n",
    "r.ResetCurrentTarget()\n",
    "SoftSetJointCompliance(r,r._franka_default.JointCompliance.K,3);"
   ]
  },
  {
   "cell_type": "markdown",
   "id": "31157c32-a76a-4f27-8fbc-be1398725f0d",
   "metadata": {},
   "source": [
    "# Gripper test"
   ]
  },
  {
   "cell_type": "code",
   "execution_count": null,
   "id": "edde7aad-8dda-49b2-b85d-8155d3d812f7",
   "metadata": {},
   "outputs": [],
   "source": [
    "r.ErrorRecovery()"
   ]
  },
  {
   "cell_type": "code",
   "execution_count": null,
   "id": "f85724b6-b98a-4774-bcd6-ab71b06a2544",
   "metadata": {},
   "outputs": [],
   "source": [
    "r.SetJointCompliant()"
   ]
  },
  {
   "cell_type": "code",
   "execution_count": null,
   "id": "f2bc1ed9-bd0b-43b7-9b2b-c8e0f2cce2d5",
   "metadata": {},
   "outputs": [],
   "source": [
    "g.Homing()"
   ]
  },
  {
   "cell_type": "code",
   "execution_count": null,
   "id": "7fa95ee1-a1d1-40f6-93a0-d03f1c1a3324",
   "metadata": {},
   "outputs": [],
   "source": [
    "r.SetJointCompliant()"
   ]
  },
  {
   "cell_type": "code",
   "execution_count": null,
   "id": "8a0ecbda-5ec2-477d-8368-65ef92b2fcd1",
   "metadata": {},
   "outputs": [],
   "source": [
    "r.ResetCurrentTarget()\n",
    "SoftSetJointCompliance(r,r._franka_default.JointCompliance.K,3);\n",
    "r.SetJointStiff()"
   ]
  },
  {
   "cell_type": "code",
   "execution_count": null,
   "id": "b05af53b-0d92-4436-bd74-bce68b32ec54",
   "metadata": {},
   "outputs": [],
   "source": [
    "r.SetJointCompliance([1200.,1200.,1200.,1200.,1200.,1200.,250.],3);"
   ]
  },
  {
   "cell_type": "code",
   "execution_count": null,
   "id": "545aa024-5762-465b-8baa-b4efa525d46e",
   "metadata": {},
   "outputs": [],
   "source": [
    "r.CMoveFor([0,0,0.1],3)"
   ]
  },
  {
   "cell_type": "code",
   "execution_count": null,
   "id": "b1ed5bee-8d0b-4a31-986c-f91f1237e867",
   "metadata": {},
   "outputs": [],
   "source": [
    "g.Close()"
   ]
  },
  {
   "cell_type": "code",
   "execution_count": null,
   "id": "4019383f-661c-4c62-bf2c-ae85616568a6",
   "metadata": {},
   "outputs": [],
   "source": [
    "R.c"
   ]
  },
  {
   "cell_type": "code",
   "execution_count": null,
   "id": "86077154-4398-4892-b2c6-cd9c7ee19da4",
   "metadata": {},
   "outputs": [],
   "source": [
    "g.Open()"
   ]
  },
  {
   "cell_type": "code",
   "execution_count": null,
   "id": "ae3f1fe9-6a58-4d19-8497-23f7d477f8a9",
   "metadata": {},
   "outputs": [],
   "source": [
    "r.SetJointCompliant()"
   ]
  }
 ],
 "metadata": {
  "kernelspec": {
   "display_name": "Python 3 (ipykernel)",
   "language": "python",
   "name": "python3"
  },
  "language_info": {
   "codemirror_mode": {
    "name": "ipython",
    "version": 3
   },
   "file_extension": ".py",
   "mimetype": "text/x-python",
   "name": "python",
   "nbconvert_exporter": "python",
   "pygments_lexer": "ipython3",
   "version": "3.8.10"
  }
 },
 "nbformat": 4,
 "nbformat_minor": 5
}
