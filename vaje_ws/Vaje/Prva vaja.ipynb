{
 "cells": [
  {
   "cell_type": "markdown",
   "id": "e7f1a62d-609c-4c11-ad4d-d50dbda9aadf",
   "metadata": {},
   "source": [
    "# Premikanje robota v notranjih koordinatah\n",
    "\n",
    "1. Seznanite se z robotom. Napotke najdete v beležki *Prvi koraki.ipynb*. Pojdite skozi posamezne celice do konca.\n",
    "\n",
    "2. Premikajte robota po sklepih relativno in absolutno.\n",
    "\n",
    "3. Premikajte robota v kartezičnih koordinatah relativno in absolutno.\n",
    "\n",
    "4. Naredite robota podajnega in zajemite trajektorijo v prostoru sklepov na 100 Hz.\n",
    "\n",
    "5. Naredite robota ponovno togega - na varen način.\n",
    "\n",
    "6. Izvedite posneto trajektorijo v prostoru sklepov na pribl. 100 Hz. Uporabite metodo `robot.GoTo_q` v zanki. **Bodite pozorni, da skoki v referenčnih vrednostih niso preveliki!**\n",
    "\n",
    "7. Izriši zajeto in ponovno izvedeno trajektorijo.\n"
   ]
  },
  {
   "cell_type": "code",
   "execution_count": 1,
   "id": "70b57e86-75b3-41f0-acb6-5dab91a93770",
   "metadata": {},
   "outputs": [
    {
     "name": "stdout",
     "output_type": "stream",
     "text": [
      "Make sure that ROS node is initialized outside\n",
      "Panda::Initialized\n",
      "Panda:Gripper:ROS:Created\n"
     ]
    }
   ],
   "source": [
    "import rospy\n",
    "import inspect\n",
    "from robotblockset.ros.grippers_ros import PandaGripper\n",
    "from importlib import reload\n",
    "import example_data_recorder\n",
    "reload(example_data_recorder)\n",
    "from utils import SoftSetJointCompliance\n",
    "ns = \"pingvin_2\"\n",
    "rospy.init_node(ns)\n",
    "from robotblockset.ros.franka import panda_ros\n",
    "r = panda_ros(ns=ns, control_strategy=\"JointImpedance\", init_node=False)\n",
    "g = PandaGripper(namespace=ns,robot=r)"
   ]
  },
  {
   "cell_type": "code",
   "execution_count": 2,
   "id": "5a5bf89e-2932-434d-834d-4153595f2f31",
   "metadata": {},
   "outputs": [
    {
     "data": {
      "text/plain": [
       "0"
      ]
     },
     "execution_count": 2,
     "metadata": {},
     "output_type": "execute_result"
    }
   ],
   "source": [
    "r.ErrorRecovery()"
   ]
  },
  {
   "cell_type": "code",
   "execution_count": null,
   "id": "df994ea6-8cd5-4ac4-8551-f2de9314ee83",
   "metadata": {},
   "outputs": [],
   "source": [
    "r.CMoveFor([0.02,0.05,-0.1], 3)"
   ]
  },
  {
   "cell_type": "code",
   "execution_count": 2,
   "id": "5ac6d372-59b9-4f54-8cd0-f8d40db55d14",
   "metadata": {},
   "outputs": [
    {
     "data": {
      "text/plain": [
       "0"
      ]
     },
     "execution_count": 2,
     "metadata": {},
     "output_type": "execute_result"
    }
   ],
   "source": [
    "r.CMove([0.1, 0, 0.3], 4)"
   ]
  },
  {
   "cell_type": "code",
   "execution_count": null,
   "id": "634b3425-8d34-4779-9d28-ca0a51fdb686",
   "metadata": {},
   "outputs": [],
   "source": [
    "r.JMoveFor([-0.2,0,0,0,0,0,0],3)"
   ]
  },
  {
   "cell_type": "code",
   "execution_count": null,
   "id": "bd6c0417-c871-4e8e-bdd5-5df6c67e6ab2",
   "metadata": {},
   "outputs": [],
   "source": [
    "g.Close()"
   ]
  },
  {
   "cell_type": "code",
   "execution_count": null,
   "id": "34626960-d68b-47cd-a539-ae663bb6f8d2",
   "metadata": {},
   "outputs": [],
   "source": [
    "g.Open()"
   ]
  },
  {
   "cell_type": "code",
   "execution_count": null,
   "id": "ecee589d-058f-4de3-958f-df26b4208d4f",
   "metadata": {},
   "outputs": [],
   "source": [
    "r.SetJointCompliant()"
   ]
  },
  {
   "cell_type": "code",
   "execution_count": null,
   "id": "5ea0c7a8-56ec-4b78-b2e6-39f4d3551df9",
   "metadata": {},
   "outputs": [],
   "source": [
    "r.ResetCurrentTarget()\n",
    "SoftSetJointCompliance(r,r._franka_default.JointCompliance.K,4)"
   ]
  },
  {
   "cell_type": "code",
   "execution_count": null,
   "id": "b2b6f0b2-c7ab-4bda-871c-b11acd61d78c",
   "metadata": {},
   "outputs": [],
   "source": [
    "!rostopic list | grep F_ext"
   ]
  },
  {
   "cell_type": "code",
   "execution_count": null,
   "id": "04146835-93cc-4554-a062-cc0a2b9dd984",
   "metadata": {},
   "outputs": [],
   "source": [
    "!rostopic echo -n 1 /pingvin_2/franka_state_controller/F_ext"
   ]
  },
  {
   "cell_type": "code",
   "execution_count": null,
   "id": "2aa32dae-8eab-4c62-ba3b-080a403e1f49",
   "metadata": {},
   "outputs": [],
   "source": [
    "!rostopic echo -n 1 /pingvin_2/franka_state_controller/F_ext/wrench"
   ]
  },
  {
   "cell_type": "code",
   "execution_count": null,
   "id": "f94df6bf-2762-4492-9b04-9dd29fbdcd58",
   "metadata": {},
   "outputs": [],
   "source": [
    "!rosbag record /pingvin_2/franka_state_controller/joint_states"
   ]
  },
  {
   "cell_type": "code",
   "execution_count": null,
   "id": "8b110bf3-c281-46af-b937-c9cd108aeb4b",
   "metadata": {},
   "outputs": [],
   "source": [
    "r._semaphore.release()"
   ]
  },
  {
   "cell_type": "code",
   "execution_count": null,
   "id": "2824a57a-e60a-48c7-b8d0-677127ad5450",
   "metadata": {},
   "outputs": [],
   "source": [
    "import time\n",
    "from robotblockset.transformations import rot_x, rp2t, q2r\n",
    "from robotblockset.robots import isrobot\n",
    "from robotblockset.graphics import plotjtraj, plotctraj\n",
    "import matplotlib.pyplot as plt\n",
    "import numpy as np\n",
    "\n",
    "# Primer strukture za shranjevanje stanja robota se nahaja v datoteki example_data_recorder.py\n",
    "from example_data_recorder import RobotDataRecorder\n",
    "\n",
    "# Nastavimo parametre za snemanje in iniciliziramo medpomnilnik\n",
    "recorder = RobotDataRecorder(r,max_iterations=5000)\n",
    "r.SetCaptureCallback(recorder.record_callback)\n",
    "\n",
    "# Definramo želeno lego\n",
    "p0 = [0.5, 0, 0.5]\n",
    "R0 = q2r(rot_x(np.pi))\n",
    "T0 = rp2t(R0,p0)\n",
    "\n",
    "r.ResetCurrentTarget() # Nastavi referenčno konfiguracijo na trenutno stanje  \n",
    "r.ErrorRecovery() # Poskrbimo, da je robot v pravilnem stanju\n",
    "r.SetJointStiff() # Nastavi ojačanja v kontrolerju"
   ]
  },
  {
   "cell_type": "code",
   "execution_count": null,
   "id": "bb844f58-0020-4e09-bf99-7eafeaed7a47",
   "metadata": {},
   "outputs": [],
   "source": [
    "# Zaženemo snemanje\n",
    "r.SetJointStiff()\n",
    "r.StartCapture()\n",
    "# Sprožimo premik - POZOR, robot se bo premaknil!\n",
    "r.CMove(T0, 5)\n",
    "# Končamo snemanje\n",
    "r.StopCapture()"
   ]
  },
  {
   "cell_type": "code",
   "execution_count": null,
   "id": "9b5b8571-9f3e-4f41-bf3d-900ae5f65e32",
   "metadata": {},
   "outputs": [],
   "source": [
    "# Prikaz na grafu, polne črte so dejansko, črtkane pa želeno stanje\n",
    "\n",
    "last_entry=recorder.it\n",
    "\n",
    "fig, ax = plt.subplots(3, 1, figsize=(9, 6))\n",
    "fig.suptitle(\"Joint trajectories\")\n",
    "plotjtraj(recorder.tt[:last_entry], recorder.qt[:last_entry], recorder.qdt[:last_entry], ax=ax)\n",
    "plotjtraj(recorder.tt[:last_entry], recorder.rqt[:last_entry], recorder.rqdt[:last_entry], ax=ax, linestyle=\"--\")\n",
    "\n",
    "fig, ax = plt.subplots(3, 2, figsize=(9, 6))\n",
    "fig.suptitle(\"Cartesiean trajectories\")\n",
    "plotctraj(recorder.tt[:last_entry], recorder.xt[:last_entry], recorder.vt[:last_entry], ax=ax)\n",
    "plotctraj(recorder.tt[:last_entry], recorder.rxt[:last_entry], recorder.rvt[:last_entry], ax=ax, linestyle=\"--\")\n",
    "\n",
    "plt.show()"
   ]
  },
  {
   "cell_type": "code",
   "execution_count": null,
   "id": "30287a28-7ff5-46d1-bce6-a846194a8e50",
   "metadata": {},
   "outputs": [],
   "source": [
    "#For kinestetic movement\n",
    "\n",
    "import numpy as np\n",
    "def record_robot_state(robot, frequency, duration):\n",
    "    interval = 1.0 / frequency\n",
    "    \n",
    "    N=int(frequency*duration)\n",
    "    tt = np.zeros((N,1))\n",
    "    qt = np.zeros((N,r.nj))\n",
    "    dqt = np.zeros((N,r.nj))\n",
    "\n",
    "    i = 0\n",
    "    start_time = time.monotonic()\n",
    "    end_time = start_time + duration\n",
    "    \n",
    "    last_update = time.monotonic()\n",
    "\n",
    "    while time.monotonic() <= end_time+interval and i < N:\n",
    "        t = time.monotonic()\n",
    "        if t - last_update >= interval:\n",
    "            \n",
    "            # Get robot state\n",
    "            state = robot.GetState()\n",
    "            \n",
    "            tt[i] = t-start_time\n",
    "            qt[i] = r.q\n",
    "            dqt[i] = r.qdot\n",
    "\n",
    "            # Update the last recorded time\n",
    "            last_update = t\n",
    "            i += 1\n",
    "        \n",
    "    return tt, qt, dqt, i, N   "
   ]
  },
  {
   "cell_type": "code",
   "execution_count": null,
   "id": "2fc02138-eaf7-4a98-8268-3c41a1880831",
   "metadata": {},
   "outputs": [],
   "source": [
    "#Robot naj bo podajen\n",
    "r.SetJointCompliant()"
   ]
  },
  {
   "cell_type": "code",
   "execution_count": null,
   "id": "d8f4a788-59cf-4c8b-9bf6-b2e513217f5b",
   "metadata": {},
   "outputs": [],
   "source": [
    "import time\n",
    "from utils import pip\n",
    "\n",
    "time.sleep(1)\n",
    "pip();\n",
    "# vzorčimo 3 sekunde pri 100Hz\n",
    "tt, qt, dqt, i, N = record_robot_state(r,100,3)\n",
    "pip();"
   ]
  },
  {
   "cell_type": "code",
   "execution_count": null,
   "id": "1dbf662e-24c1-4b31-b010-3e9906544222",
   "metadata": {},
   "outputs": [],
   "source": [
    "from robotblockset.graphics import plotjtraj\n",
    "import matplotlib.pyplot as plt\n",
    "\n",
    "fig, ax = plt.subplots(3, 1, figsize=(9, 6))\n",
    "fig.suptitle('Joint trajectories')\n",
    "plotjtraj(tt, qt, dqt, ax=ax);\n",
    "plotjtraj(tt, qt+0.01, dqt, ax=ax, linestyle=\"--\");"
   ]
  },
  {
   "cell_type": "code",
   "execution_count": null,
   "id": "f49352e2-3bf6-463e-93d2-a2d3ab1b1ebf",
   "metadata": {},
   "outputs": [],
   "source": [
    "r.GoTo_q()"
   ]
  }
 ],
 "metadata": {
  "kernelspec": {
   "display_name": "Python 3 (ipykernel)",
   "language": "python",
   "name": "python3"
  },
  "language_info": {
   "codemirror_mode": {
    "name": "ipython",
    "version": 3
   },
   "file_extension": ".py",
   "mimetype": "text/x-python",
   "name": "python",
   "nbconvert_exporter": "python",
   "pygments_lexer": "ipython3",
   "version": "3.8.10"
  }
 },
 "nbformat": 4,
 "nbformat_minor": 5
}
