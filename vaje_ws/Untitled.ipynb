{
 "cells": [
  {
   "cell_type": "code",
   "execution_count": 1,
   "id": "f00018e6-f089-4319-a1ab-78c8c8255e2e",
   "metadata": {},
   "outputs": [],
   "source": [
    "# Testing qbSoftHand"
   ]
  },
  {
   "cell_type": "code",
   "execution_count": 3,
   "id": "bab7965d-b328-4f62-aff9-ee1d8a5f4fd6",
   "metadata": {},
   "outputs": [
    {
     "name": "stdout",
     "output_type": "stream",
     "text": [
      "[INFO] [1744635448.339111]: softhand goal sent: [0]\n",
      "[INFO] [1744635452.343070]: softhand goal sent: [0.7]\n",
      "[INFO] [1744635456.347142]: softhand goal sent: [0]\n"
     ]
    }
   ],
   "source": [
    "import rospy\n",
    "import actionlib\n",
    "from control_msgs.msg import FollowJointTrajectoryAction, FollowJointTrajectoryGoal\n",
    "from trajectory_msgs.msg import JointTrajectoryPoint\n",
    "import time\n",
    "\n",
    "\n",
    "class SofthandGripper:\n",
    "    def __init__(self, device_id = 1, **kwargs):\n",
    "        \"\"\" QbRobotics SoftHand gripper\n",
    "        device_id: int: Index of device, as set in its firmware. To determine this value, open the qbGUI controller using root privileges (sudo).\n",
    "        You can get the qbGui controller at: https://qbrobotics.com/download/qb-softhand-research-downloads/\n",
    "        After connecting to the device and activating it using qbGUI (top left side of windows), the device ID will be displayed.\n",
    "\n",
    "        TODO check if device_id should be empty (e.g. '' instead of '0') if device_id is set to 0 in qbgui. This can be checked by 'rostopic list | grep qbhand'\n",
    "        \"\"\"\n",
    "        #super().__init__()\n",
    "\n",
    "        if not rospy.get_node_uri():\n",
    "            rospy.init_node(\"qb_hand_client\", anonymous = True)\n",
    "\n",
    "        self.Name = 'softhand'\n",
    "\n",
    "        device_id = str(device_id)\n",
    "        self._topic = f'/qbhand{device_id}/control/qbhand{device_id}_synergy_trajectory_controller/follow_joint_trajectory'\n",
    "\n",
    "        # Time to complete movement.\n",
    "        self.motion_duration = 0.7\n",
    "        self.sleep_duration = 1.2*self.motion_duration\n",
    "\n",
    "        self._client = actionlib.SimpleActionClient(self._topic, FollowJointTrajectoryAction)\n",
    "        self.actionGoal = FollowJointTrajectoryGoal()\n",
    "        self.actionGoal.trajectory.joint_names = [f'qbhand{device_id}_synergy_joint']\n",
    "\n",
    "        self.actionPoint = JointTrajectoryPoint()\n",
    "        self.actionPoint.time_from_start = rospy.Duration(self.motion_duration) # seconds\n",
    "\n",
    "    def open(self, command = 1, sleep = False, wait_for_result = False, **kwargs):\n",
    "        \"\"\" If input command == 1, then  it opens to the max. if 0, it will close. if in between...\n",
    "        Args :\n",
    "        command \n",
    "        sleep - if true, sleep for the required time to open/close gripper\n",
    "        wait_for_result: wait for result from the action server\"\"\" \n",
    "\n",
    "        assert (0 <= command <= 1)\n",
    "        # Command must be between 0 and 1. By default it is one\n",
    "\n",
    "        actualcommand = 1-command  # If actualcommand is 0, gripper will open to the max. If 1, it will close. (Thats how softhand actions work).\n",
    "\n",
    "        self.actionPoint.positions = [actualcommand] \n",
    "        self.sendActionGoal(wait_for_result)\n",
    "        if sleep:time.sleep(self.sleep_duration)\n",
    "\n",
    "    def close(self, command = 1, sleep = False, wait_for_result = False, **kwargs):\n",
    "        \"\"\"Args :\n",
    "        command \n",
    "        sleep - if true, sleep for the required time to open/close gripper\n",
    "        wait_for_result: wait for result from the action server\"\"\"\n",
    "        assert (0 <= command <= 1)\n",
    "\n",
    "        actualcommand = command\n",
    "\n",
    "        self.actionPoint.positions = [actualcommand] \n",
    "        self.sendActionGoal(wait_for_result)\n",
    "        if sleep:time.sleep(self.sleep_duration)\n",
    "\n",
    "    def sendActionGoal(self, wait_for_result = False):\n",
    "\n",
    "        self.actionGoal.trajectory.points = [self.actionPoint]\n",
    "\n",
    "        #rospy.loginfo(\"Starting sending softhand goal...\")\n",
    "        try:\n",
    "            rospy.loginfo(\"{} goal sent: {}\".format(self.Name, str(self.actionPoint.positions)))\n",
    "            self._client.send_goal(self.actionGoal)\n",
    "            if wait_for_result:\n",
    "                res = self._client.get_result(self._topic)\n",
    "                while res == None:\n",
    "                    res = self._client.get_result(self._topic)\n",
    "                    time.sleep(0.2)\n",
    "                rospy.loginfo(\"{} result: {}\".format(self.Name, res))\n",
    "\n",
    "            self._state = 0\n",
    "\n",
    "        except Exception as e:\n",
    "            # Since a state failure not necessarily causes a behavior failure, it is recommended to only print warnings, not errors.\n",
    "\t\t\t# Using a linebreak before appending the error log enables the operator to collapse details in the GUI.\n",
    "            rospy.loginfo('Failed to send the goal command:\\n{}'.format(str(e)))\n",
    "            self._error = True\n",
    "\n",
    "    def grasp(self, **kwargs):\n",
    "        self.close()\n",
    "\n",
    "\n",
    "if __name__ == '__main__':\n",
    "    gripper_client = SofthandGripper(device_id = 1)\n",
    "    gripper_client.open()\n",
    "    time.sleep(4)\n",
    "    gripper_client.close(command = 0.7)\n",
    "    time.sleep(4)\n",
    "    gripper_client.open()"
   ]
  },
  {
   "cell_type": "code",
   "execution_count": 2,
   "id": "3ee83748-a5b9-4a51-aca8-35e0b0f89554",
   "metadata": {},
   "outputs": [
    {
     "name": "stdout",
     "output_type": "stream",
     "text": [
      "[INFO] [1744634799.440484]: softhand goal sent: [0]\n",
      "[INFO] [1744634803.443165]: softhand goal sent: [0.7]\n",
      "[INFO] [1744634807.447426]: softhand goal sent: [0]\n"
     ]
    }
   ],
   "source": [
    "gripper_client = SofthandGripper(device_id = 1)\n",
    "gripper_client.open()\n",
    "time.sleep(4)\n",
    "gripper_client.close(command = 0.7)\n",
    "time.sleep(4)\n",
    "gripper_client.open()"
   ]
  },
  {
   "cell_type": "code",
   "execution_count": null,
   "id": "dce69377-8b28-48fe-8c4f-2b264299339b",
   "metadata": {},
   "outputs": [],
   "source": []
  }
 ],
 "metadata": {
  "kernelspec": {
   "display_name": "Python 3 (ipykernel)",
   "language": "python",
   "name": "python3"
  },
  "language_info": {
   "codemirror_mode": {
    "name": "ipython",
    "version": 3
   },
   "file_extension": ".py",
   "mimetype": "text/x-python",
   "name": "python",
   "nbconvert_exporter": "python",
   "pygments_lexer": "ipython3",
   "version": "3.8.10"
  }
 },
 "nbformat": 4,
 "nbformat_minor": 5
}
