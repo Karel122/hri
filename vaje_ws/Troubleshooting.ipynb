{
 "cells": [
  {
   "cell_type": "markdown",
   "id": "e4506fcf-fcbf-4a44-9749-8a6cd8be2558",
   "metadata": {},
   "source": [
    "# Odpravljanje težav"
   ]
  },
  {
   "cell_type": "markdown",
   "id": "460b9f23-2dc6-41e9-823e-4cbcf744ca4e",
   "metadata": {},
   "source": [
    "## Robot se ne odziva\n",
    "\n",
    "Pri vodenju robota prek okolja RBS se lahko robot preneha odzivati iz dveh razlogov:\n",
    "- Izvajanje ukaza je bilo prekinjeno (npr. ob pritisku gumba stop v Jupytru)\n",
    "- Robot je v stanju napake."
   ]
  },
  {
   "cell_type": "markdown",
   "id": "b627c817-5826-468c-8311-a49b0ebe51ac",
   "metadata": {
    "jp-MarkdownHeadingCollapsed": true
   },
   "source": [
    "### Single point of control\n",
    "Pred začetkom izvajanja ukazov RBS za dosego t.i. \"single point of control\" nastavi semafor. Če je bilo izvajanje ukaza prekinjeno, program semaforja ni sprostil. To lahko storimo ročno: `r._semaphore.release()`"
   ]
  },
  {
   "cell_type": "markdown",
   "id": "dcc246dd-7654-4fc5-95ff-f0eb9c276a05",
   "metadata": {
    "jp-MarkdownHeadingCollapsed": true
   },
   "source": [
    "### Programsko stanje napake\n",
    "V primeru, da se robot preneha odzivati, preveri LED svetila ob strani robota. Če so obarvana rdeče je robot v stanju napake.\n",
    "\n",
    "V programskem okolju RBS se to lahko preveri prek ukaza `r.state.robot_mode`. Pričakovano stanje je `r.state.ROBOT_MODE_MOVE` oz. `2` (kMove). Glej definicijo enumeratorja [RobotMode](https://frankaemika.github.io/libfranka/0.15.0/robot__state_8h.html#adfe059ae23ebbad59e421edaa879651a) za druga stanja.\n",
    "\n",
    "Za odpravljanje napake najprej preverimo, da robot ni v kontaktu z okoljem. Odmaknemo ga lahko prek spletnega vmesnika *Franka Desk*, kjer robota iz načina *Execution* prestavimo v način *Programming* (za kinestetično vodenje). Robota primemo za črna gumba na robotski prijemalnik in ga odmaknemo in vrnemo v način *Execution*..\n",
    "\n",
    "Robotu lahko pošljemo ukaz za avtomatično odpravo napake prek ukaza `r.ErrorRecovery()`. Ta za ivzedbo lahko potrebuje tudi do 10 sekund."
   ]
  },
  {
   "cell_type": "markdown",
   "id": "7c0c20c6-7515-40a7-9e7d-57b031abb8ff",
   "metadata": {
    "jp-MarkdownHeadingCollapsed": true
   },
   "source": [
    "### Ponovni zagon kontrolerja \n",
    "V primeru, da se ukaz ne konča uspešno, v terminalu poženemo ukaz\n",
    "```ssh pingvin@IP docker restart hri-vaje-controller```\n",
    "pri čemur IP ustrezno nadomestimo.\n",
    "\n",
    "za tem je potrebno ponovno inicializirati tudi instanto robotskega objekta v okolju RBS:\n",
    "```r = panda_ros(ns=ns, control_strategy=\"JointImpedance\", init_node=False)```"
   ]
  },
  {
   "cell_type": "markdown",
   "id": "0f6eda00-c0a6-43a8-8342-4d0499e60c5d",
   "metadata": {
    "jp-MarkdownHeadingCollapsed": true
   },
   "source": [
    "## Po odklepanju robota\n",
    "Podobmo ravnamo tudi, če smo sprožili varnostno stikalo. V vmerniku *Franka Desk* odklenemo sklepe in poženemo oba ukaza iz razdelka *Ponovni zagon kontrolerja*."
   ]
  },
  {
   "cell_type": "markdown",
   "id": "f3f487d5-0213-44b2-9af0-dbb74c738d99",
   "metadata": {},
   "source": [
    "## Jupyter ne upošteva sprememb ločenih .py datotek"
   ]
  },
  {
   "cell_type": "markdown",
   "id": "5db37400-ca63-4b4c-8cb6-99c70fbf9a06",
   "metadata": {},
   "source": [
    "Denimo, da smo sprremenili datoteko `dmp.py`. Če smo iz nje že uvažali kakšne funkcije (`import dmp`/`from dmp import *`) je potrebno ponovno naložiti modul.\n",
    "\n",
    "```\n",
    "from importlib import reload\n",
    "reload(dmp)\n",
    "```"
   ]
  },
  {
   "cell_type": "markdown",
   "id": "d42a54e4-8ff7-436b-b174-88e447c4d88a",
   "metadata": {},
   "source": [
    "# Preveri katere ukaze prejema robotski kontroller"
   ]
  },
  {
   "cell_type": "code",
   "execution_count": null,
   "id": "cd567468-02fb-4649-8c77-fbdcbd07ebb1",
   "metadata": {},
   "outputs": [],
   "source": [
    "!rosservice call /pingvin_2/franka_control/set_logger_level \"{logger: 'ros.ijs_controllers', level: 'debug'}\""
   ]
  }
 ],
 "metadata": {
  "kernelspec": {
   "display_name": "Python 3 (ipykernel)",
   "language": "python",
   "name": "python3"
  },
  "language_info": {
   "codemirror_mode": {
    "name": "ipython",
    "version": 3
   },
   "file_extension": ".py",
   "mimetype": "text/x-python",
   "name": "python",
   "nbconvert_exporter": "python",
   "pygments_lexer": "ipython3",
   "version": "3.8.10"
  }
 },
 "nbformat": 4,
 "nbformat_minor": 5
}
