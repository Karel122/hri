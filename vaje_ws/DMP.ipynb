{
 "cells": [
  {
   "cell_type": "markdown",
   "id": "42c4cc67-a0e2-4577-b07c-992a94db73dc",
   "metadata": {},
   "source": [
    "# Zagon robota"
   ]
  },
  {
   "cell_type": "code",
   "execution_count": null,
   "id": "ec839e4a-fa09-4753-a727-01fee43700d5",
   "metadata": {},
   "outputs": [],
   "source": [
    "import rospy"
   ]
  },
  {
   "cell_type": "code",
   "execution_count": null,
   "id": "15b54d53-c00d-484e-bf18-41220d02fb1b",
   "metadata": {},
   "outputs": [],
   "source": [
    "ns = \"pingvin_2\"\n",
    "tool_name = \"gripper\""
   ]
  },
  {
   "cell_type": "code",
   "execution_count": null,
   "id": "2e79af52-dea5-4490-926a-52cbbfde8cc5",
   "metadata": {},
   "outputs": [],
   "source": [
    "rospy.init_node(ns)"
   ]
  },
  {
   "cell_type": "code",
   "execution_count": null,
   "id": "ee602b67-0144-4e30-90f7-8d12e9c2988f",
   "metadata": {},
   "outputs": [],
   "source": [
    "from robotblockset.ros.franka import panda_ros"
   ]
  },
  {
   "cell_type": "code",
   "execution_count": null,
   "id": "869bca19-c9fb-410c-a935-0c6179376e98",
   "metadata": {},
   "outputs": [],
   "source": [
    "r = panda_ros(ns=ns, control_strategy=\"JointImpedance\", init_node=False)"
   ]
  },
  {
   "cell_type": "markdown",
   "id": "45aa8fa1-9769-46f7-928f-13431682283b",
   "metadata": {},
   "source": [
    "# Zajem trajektorije"
   ]
  },
  {
   "cell_type": "code",
   "execution_count": null,
   "id": "84704398-c49d-4ce3-83dd-d02e80a7360e",
   "metadata": {},
   "outputs": [],
   "source": [
    "import numpy as np\n",
    "import time\n",
    "\n",
    "def record_robot_state(robot, frequency, duration):\n",
    "    interval = 1.0 / frequency\n",
    "    \n",
    "    N=int(frequency*duration)\n",
    "    tt = np.zeros((N,1))\n",
    "    qt = np.zeros((N,r.nj))\n",
    "    dqt = np.zeros((N,r.nj))\n",
    "\n",
    "    i = 0\n",
    "    start_time = time.monotonic()\n",
    "    end_time = start_time + duration\n",
    "    \n",
    "    last_update = time.monotonic()\n",
    "\n",
    "    while time.monotonic() <= end_time+interval and i < N:\n",
    "        t = time.monotonic()\n",
    "        if t - last_update >= interval:\n",
    "            \n",
    "            # Get robot state\n",
    "            state = robot.GetState()\n",
    "            \n",
    "            tt[i] = t-start_time\n",
    "            qt[i] = r.q\n",
    "            dqt[i] = r.qdot\n",
    "\n",
    "            # Update the last recorded time\n",
    "            last_update = t\n",
    "            i += 1\n",
    "        \n",
    "    return tt, qt, dqt, i, N    "
   ]
  },
  {
   "cell_type": "code",
   "execution_count": null,
   "id": "4c767615-dfc8-40ca-9c07-098078b2a49e",
   "metadata": {},
   "outputs": [],
   "source": [
    "#Robot naj bo podajen\n",
    "r.SetJointCompliant()"
   ]
  },
  {
   "cell_type": "code",
   "execution_count": null,
   "id": "129f5d34-2669-4c28-8df6-dcf091a044ab",
   "metadata": {},
   "outputs": [],
   "source": [
    "## ZAJEM"
   ]
  },
  {
   "cell_type": "code",
   "execution_count": null,
   "id": "c148882e-b61d-4c17-a82b-7387e0af27ab",
   "metadata": {},
   "outputs": [],
   "source": [
    "import time\n",
    "from utils import pip\n",
    "\n",
    "time.sleep(2)\n",
    "pip();\n",
    "tt, qt, dqt, i, N = record_robot_state(r,100,3)\n",
    "pip();"
   ]
  },
  {
   "cell_type": "code",
   "execution_count": null,
   "id": "f01a34f7-160a-4b1d-ae68-2a1a9cee7b43",
   "metadata": {},
   "outputs": [],
   "source": [
    "from robotblockset.graphics import plotjtraj\n",
    "import matplotlib.pyplot as plt\n",
    "\n",
    "fig, ax = plt.subplots(3, 1, figsize=(9, 6))\n",
    "fig.suptitle('Joint trajectories')\n",
    "plotjtraj(tt, qt, dqt, ax=ax);\n",
    "plotjtraj(tt, qt+0.01, dqt, ax=ax, linestyle=\"--\");"
   ]
  },
  {
   "cell_type": "markdown",
   "id": "27861e43-7dbf-45fb-89fc-fd32d41bd44e",
   "metadata": {},
   "source": [
    "Robota nredimo spet togega"
   ]
  },
  {
   "cell_type": "code",
   "execution_count": null,
   "id": "f6b8de0a-c744-4906-af54-c12a51beb956",
   "metadata": {},
   "outputs": [],
   "source": [
    "import time\n",
    "def SoftSetJointCompliance(robot, target_k, tm):\n",
    "    # Get the current joint stiffness values\n",
    "    k0 = robot.joint_compliance.K\n",
    "    \n",
    "    # Calculate the number of steps\n",
    "    N = max(1, round(tm / robot.tsamp))\n",
    "    \n",
    "    # Calculate the incremental changes \n",
    "    dK = (target_k - k0) / N\n",
    "\n",
    "    #initialize\n",
    "    Ki = k0\n",
    "    target_d = robot._franka_default.JointCompliance.D\n",
    "\n",
    "    robot.controller._verbose = 0\n",
    "    # Gradually update compliance\n",
    "    for i in range(1, N):\n",
    "        Ki += dK\n",
    "        robot.SetJointCompliance(Ki,target_d)\n",
    "        time.sleep(robot.tsamp)\n",
    "        \n",
    "    robot.controller._verbose = 1\n",
    "    robot.SetJointCompliance(Ki+dK,target_d)"
   ]
  },
  {
   "cell_type": "code",
   "execution_count": null,
   "id": "548913c1-c0bf-4463-8822-c75358b25d93",
   "metadata": {},
   "outputs": [],
   "source": [
    "r.ErrorRecovery()"
   ]
  },
  {
   "cell_type": "code",
   "execution_count": null,
   "id": "69cb4403-122f-4b74-991f-41c103e4e217",
   "metadata": {},
   "outputs": [],
   "source": [
    "r.SetJointCompliant()"
   ]
  },
  {
   "cell_type": "code",
   "execution_count": null,
   "id": "b05bfc95-6e56-4ee1-a613-8feb205d8aad",
   "metadata": {},
   "outputs": [],
   "source": [
    "r.ResetCurrentTarget()\n",
    "SoftSetJointCompliance(r,r._franka_default.JointCompliance.K,3);"
   ]
  },
  {
   "cell_type": "markdown",
   "id": "839c885a-d0a5-42d5-87d6-562a15f296fe",
   "metadata": {},
   "source": [
    "# DMP"
   ]
  },
  {
   "cell_type": "code",
   "execution_count": 1,
   "id": "318f82a6-6b9c-45fb-9948-15b3d98579ae",
   "metadata": {},
   "outputs": [],
   "source": [
    "from dmp import DMP"
   ]
  },
  {
   "cell_type": "markdown",
   "id": "f0bb2cb9-0acc-4a85-bfb4-876a2b57b001",
   "metadata": {},
   "source": [
    "**POZOR! Pri klicu objekta DMP kot argument podajte KOPIJE vhodnih spremenljivk!**"
   ]
  },
  {
   "cell_type": "code",
   "execution_count": 2,
   "id": "18892734-8856-40d4-898b-1f1f7a2f375c",
   "metadata": {
    "collapsed": true,
    "jupyter": {
     "outputs_hidden": true
    }
   },
   "outputs": [
    {
     "ename": "NameError",
     "evalue": "name 'qt' is not defined",
     "output_type": "error",
     "traceback": [
      "\u001b[0;31m---------------------------------------------------------------------------\u001b[0m",
      "\u001b[0;31mNameError\u001b[0m                                 Traceback (most recent call last)",
      "Cell \u001b[0;32mIn[2], line 1\u001b[0m\n\u001b[0;32m----> 1\u001b[0m d \u001b[38;5;241m=\u001b[39m DMP(\u001b[43mqt\u001b[49m\u001b[38;5;241m.\u001b[39mcopy(),np\u001b[38;5;241m.\u001b[39msqueeze(tt\u001b[38;5;241m.\u001b[39mcopy()),vel_data\u001b[38;5;241m=\u001b[39mdqt\u001b[38;5;241m.\u001b[39mcopy(),num_weights\u001b[38;5;241m=\u001b[39m\u001b[38;5;241m25\u001b[39m)\n",
      "\u001b[0;31mNameError\u001b[0m: name 'qt' is not defined"
     ]
    }
   ],
   "source": [
    "d = DMP(qt.copy(),np.squeeze(tt.copy()),vel_data=dqt.copy(),num_weights=25)"
   ]
  },
  {
   "cell_type": "code",
   "execution_count": null,
   "id": "001d551a-d334-4f8e-9d38-79c2cde4e024",
   "metadata": {},
   "outputs": [],
   "source": [
    "trj_dec,t_dec=d.decode()"
   ]
  },
  {
   "cell_type": "code",
   "execution_count": null,
   "id": "4d1dd380-4f5d-4852-9d42-faad82269134",
   "metadata": {},
   "outputs": [],
   "source": [
    "plotjtraj(qt=trj_dec, t=t_dec);"
   ]
  },
  {
   "cell_type": "markdown",
   "id": "af18a141-ee59-4036-b4c6-0ed947717954",
   "metadata": {},
   "source": [
    "Funkcija `robot.JPath(path,t)` najprej premakne robota za prvo točko poti z linearnim gibom v kartezičnem prostoru.\n",
    "\n",
    "Potem nadaljuje z izvajanjem dane poti v sklepnih koordinatah (`path`), pri čemer se robot v posamezne konfiguracije premakne v časih podanih v ločenem vektorju (`t`).\n",
    "\n",
    "Alternativno lahko podamo tudi samo čas v katerem naj robot izvede celoten gib. \n"
   ]
  },
  {
   "cell_type": "code",
   "execution_count": null,
   "id": "a93900b2-6f68-43f9-af9e-54a472f3b539",
   "metadata": {},
   "outputs": [],
   "source": [
    "pip();\n",
    "r.JPath(trj_dec,t_dec*3)"
   ]
  },
  {
   "cell_type": "code",
   "execution_count": null,
   "id": "2fbd0acb-19f7-4994-970c-55866cdb11de",
   "metadata": {},
   "outputs": [],
   "source": [
    "trj_dec[1]"
   ]
  },
  {
   "cell_type": "code",
   "execution_count": 2,
   "id": "287ad702-bcb4-4950-8a5b-7dd0eccc08cd",
   "metadata": {},
   "outputs": [
    {
     "ename": "NameError",
     "evalue": "name 'r' is not defined",
     "output_type": "error",
     "traceback": [
      "\u001b[0;31m---------------------------------------------------------------------------\u001b[0m",
      "\u001b[0;31mNameError\u001b[0m                                 Traceback (most recent call last)",
      "Cell \u001b[0;32mIn[2], line 2\u001b[0m\n\u001b[1;32m      1\u001b[0m \u001b[38;5;66;03m# Move slowly to the first configuration\u001b[39;00m\n\u001b[0;32m----> 2\u001b[0m \u001b[43mr\u001b[49m\u001b[38;5;241m.\u001b[39mJMove(trj_dec[\u001b[38;5;241m0\u001b[39m],\u001b[38;5;241m5\u001b[39m)\n\u001b[1;32m      3\u001b[0m pip();\n\u001b[1;32m      4\u001b[0m \u001b[38;5;28;01mfor\u001b[39;00m q \u001b[38;5;129;01min\u001b[39;00m trj_dec: \n\u001b[1;32m      5\u001b[0m     \u001b[38;5;66;03m# Call the GoTo_q function\u001b[39;00m\n",
      "\u001b[0;31mNameError\u001b[0m: name 'r' is not defined"
     ]
    }
   ],
   "source": [
    "# Move slowly to the first configuration\n",
    "r.JMove(trj_dec[0],5)\n",
    "pip();\n",
    "for q in trj_dec: \n",
    "    # Call the GoTo_q function\n",
    "    r.GoTo_q(q,np.zeros(7),np.zeros(7),0)\n",
    "    time.sleep(1/100.)"
   ]
  },
  {
   "cell_type": "code",
   "execution_count": null,
   "id": "f4bae67e-d5d2-4926-bd79-ce10efa87a30",
   "metadata": {},
   "outputs": [],
   "source": [
    "# Jedrne funkcije\n",
    "import numpy as np\n",
    "import matplotlib.pyplot as plt\n",
    "\n",
    "x = np.exp(-d.a_x * d._time_vec / d.tau)\n",
    "psi = np.zeros((x.size, d.num_weights))\n",
    "i = 0\n",
    "for val in x:\n",
    "    psi[i] = np.exp(- np.square(val-d.c) /\n",
    "                 (np.multiply(d.sigma, 2)))\n",
    "    i+=1\n",
    "\n",
    "plt.plot(psi)\n",
    "plt.show()"
   ]
  },
  {
   "cell_type": "code",
   "execution_count": null,
   "id": "9ab9f2f8-959a-43a0-9b63-b532208f50e0",
   "metadata": {},
   "outputs": [],
   "source": [
    "fx = np.zeros(''' število samplov ''')\n",
    "i=0\n",
    "for x_, psi_ in zip(x, psi):\n",
    "    fx[i] = sum(np.multiply(\n",
    "        (np.multiply(d.weights_pos[], x_)),\n",
    "        (np.divide(psi_, sum(psi_)))\n",
    "    ))\n",
    "    i+=1"
   ]
  }
 ],
 "metadata": {
  "kernelspec": {
   "display_name": "Python 3 (ipykernel)",
   "language": "python",
   "name": "python3"
  },
  "language_info": {
   "codemirror_mode": {
    "name": "ipython",
    "version": 3
   },
   "file_extension": ".py",
   "mimetype": "text/x-python",
   "name": "python",
   "nbconvert_exporter": "python",
   "pygments_lexer": "ipython3",
   "version": "3.8.10"
  }
 },
 "nbformat": 4,
 "nbformat_minor": 5
}
